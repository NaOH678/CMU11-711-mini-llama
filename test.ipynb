{
 "cells": [
  {
   "cell_type": "code",
   "execution_count": 1,
   "metadata": {},
   "outputs": [
    {
     "data": {
      "text/plain": [
       "(tensor([[[1.7870, 3.9872],\n",
       "          [3.2323, 4.3232]],\n",
       " \n",
       "         [[1.7870, 3.9872],\n",
       "          [3.2323, 4.3232]]]),\n",
       " tensor([[[2.3452, 4.4315],\n",
       "          [3.3232, 4.4334]],\n",
       " \n",
       "         [[2.3452, 4.4315],\n",
       "          [3.3232, 4.4334]]]))"
      ]
     },
     "execution_count": 1,
     "metadata": {},
     "output_type": "execute_result"
    }
   ],
   "source": [
    "import torch\n",
    "import torch.nn.functional as F\n",
    "import numpy as np\n",
    "x = torch.tensor([[[1.787,2.3452,3.9872,4.431545],\n",
    "                  [3.2323, 3.3232, 4.3232, 4.43344]],\n",
    "                  [[1.787,2.3452,3.9872,4.431545],\n",
    "                  [3.2323, 3.3232, 4.3232, 4.43344]]])\n",
    "x.float().reshape(x.shape[:-1] + (-1, 2)).unbind(-1)\n"
   ]
  },
  {
   "cell_type": "code",
   "execution_count": 7,
   "metadata": {},
   "outputs": [],
   "source": [
    "i = 0\n",
    "d = 512\n",
    "# theta = 10000**(-2*i/d)\n",
    "theta = [10000**(-2*i/d) for i in range(d)]\n",
    "\n",
    "\n",
    "theta = np.sin(theta)\n",
    "theta = torch.tensor(theta)\n"
   ]
  },
  {
   "cell_type": "code",
   "execution_count": 20,
   "metadata": {},
   "outputs": [
    {
     "data": {
      "text/plain": [
       "tensor([2, 1, 4, 3, 6, 5])"
      ]
     },
     "execution_count": 20,
     "metadata": {},
     "output_type": "execute_result"
    }
   ],
   "source": [
    "a = torch.tensor([1,2,3,4,5,6])\n",
    "a = a.view(-1,2).flip(1).reshape(-1)\n",
    "a"
   ]
  },
  {
   "cell_type": "code",
   "execution_count": 29,
   "metadata": {},
   "outputs": [
    {
     "data": {
      "text/plain": [
       "tensor([ 1,  2,  3,  4,  5,  6,  7,  8,  9, 10])"
      ]
     },
     "execution_count": 29,
     "metadata": {},
     "output_type": "execute_result"
    }
   ],
   "source": [
    "a = torch.tensor([1,3,5,7,9]).unsqueeze(-1)\n",
    "b = torch.tensor([2,4,6,8,10]).unsqueeze(-1)\n",
    "\n",
    "torch.cat((a,b), dim=-1).reshape(-1)"
   ]
  },
  {
   "cell_type": "code",
   "execution_count": 30,
   "metadata": {},
   "outputs": [
    {
     "data": {
      "text/plain": [
       "tensor([ -2,   1,  -4,   3,  -6,   5,  -8,   7, -10,   9])"
      ]
     },
     "execution_count": 30,
     "metadata": {},
     "output_type": "execute_result"
    }
   ],
   "source": [
    "torch.cat((-b,a), dim=-1).reshape(-1)"
   ]
  },
  {
   "cell_type": "code",
   "execution_count": 2,
   "metadata": {},
   "outputs": [
    {
     "data": {
      "text/plain": [
       "tensor([[1, 2, 3, 4],\n",
       "        [5, 6, 7, 8]])"
      ]
     },
     "execution_count": 2,
     "metadata": {},
     "output_type": "execute_result"
    }
   ],
   "source": [
    "c = torch.tensor([[1,2,3,4],\n",
    "                  [5,6,7,8]])\n",
    "c"
   ]
  },
  {
   "cell_type": "code",
   "execution_count": 3,
   "metadata": {},
   "outputs": [
    {
     "data": {
      "text/plain": [
       "tensor([[[[1, 2, 3, 4]],\n",
       "\n",
       "         [[5, 6, 7, 8]]]])"
      ]
     },
     "execution_count": 3,
     "metadata": {},
     "output_type": "execute_result"
    }
   ],
   "source": [
    "c.view(1,2,1,4)"
   ]
  },
  {
   "cell_type": "code",
   "execution_count": 4,
   "metadata": {},
   "outputs": [
    {
     "data": {
      "text/plain": [
       "tensor([[[[1, 2, 3, 4],\n",
       "          [1, 2, 3, 4]],\n",
       "\n",
       "         [[5, 6, 7, 8],\n",
       "          [5, 6, 7, 8]]],\n",
       "\n",
       "\n",
       "        [[[1, 2, 3, 4],\n",
       "          [1, 2, 3, 4]],\n",
       "\n",
       "         [[5, 6, 7, 8],\n",
       "          [5, 6, 7, 8]]]])"
      ]
     },
     "execution_count": 4,
     "metadata": {},
     "output_type": "execute_result"
    }
   ],
   "source": [
    "c.view(1,2,1,4).expand(2,2,2,4)"
   ]
  },
  {
   "cell_type": "code",
   "execution_count": null,
   "metadata": {},
   "outputs": [],
   "source": [
    "torch.arange(0, 8, 2)"
   ]
  },
  {
   "cell_type": "code",
   "execution_count": 9,
   "metadata": {},
   "outputs": [
    {
     "data": {
      "text/plain": [
       "tensor([[[ 1,  9,  2, 10],\n",
       "         [ 3, 11,  4, 12]],\n",
       "\n",
       "        [[ 5, 13,  6, 14],\n",
       "         [ 7, 15,  8, 16]]])"
      ]
     },
     "execution_count": 9,
     "metadata": {},
     "output_type": "execute_result"
    }
   ],
   "source": [
    "tensor1 = torch.tensor([[[1, 2], [3, 4]], [[5, 6], [7, 8]]])  # 形状: (2, 2, 2)\n",
    "tensor2 = torch.tensor([[[9, 10], [11, 12]], [[13, 14], [15, 16]]])  # 形状: (2, 2, 2)\n",
    "\n",
    "# 在最后一维上堆叠\n",
    "stacked = torch.stack((tensor1, tensor2), dim=-1).view(2,2,-1)  # 形状: (2, 2, 2, 2)\n",
    "stacked"
   ]
  },
  {
   "cell_type": "code",
   "execution_count": 6,
   "metadata": {},
   "outputs": [
    {
     "data": {
      "text/plain": [
       "tensor([1, 2, 3, 4, 5, 6])"
      ]
     },
     "execution_count": 6,
     "metadata": {},
     "output_type": "execute_result"
    }
   ],
   "source": [
    "# 示例输入\n",
    "tensor1 = torch.tensor([1, 3, 5])  # 形状: (3,)\n",
    "tensor2 = torch.tensor([2, 4, 6])  # 形状: (3,)\n",
    "\n",
    "# 堆叠并调整形状\n",
    "result = torch.stack((tensor1, tensor2), dim=1).view(-1)\n",
    "result"
   ]
  },
  {
   "cell_type": "code",
   "execution_count": 10,
   "metadata": {},
   "outputs": [
    {
     "data": {
      "text/plain": [
       "tensor([0, 2])"
      ]
     },
     "execution_count": 10,
     "metadata": {},
     "output_type": "execute_result"
    }
   ],
   "source": [
    "torch.arange(0, 4, 2)"
   ]
  },
  {
   "cell_type": "code",
   "execution_count": 12,
   "metadata": {},
   "outputs": [
    {
     "data": {
      "text/plain": [
       "tensor([0, 1])"
      ]
     },
     "execution_count": 12,
     "metadata": {},
     "output_type": "execute_result"
    }
   ],
   "source": [
    "torch.arange(0, 4//2)"
   ]
  },
  {
   "cell_type": "code",
   "execution_count": 13,
   "metadata": {},
   "outputs": [
    {
     "data": {
      "text/plain": [
       "tensor([[[[4.0837e-01, 1.5514e-01],\n",
       "          [5.2118e-01, 7.5280e-03]],\n",
       "\n",
       "         [[2.3242e-04, 4.0424e-01],\n",
       "          [3.2242e-01, 3.8954e-02]],\n",
       "\n",
       "         [[2.3186e-01, 5.9872e-04],\n",
       "          [3.4052e-01, 5.7783e-03]]],\n",
       "\n",
       "\n",
       "        [[[6.2617e-01, 3.4871e-01],\n",
       "          [1.9378e-01, 1.7009e-01]],\n",
       "\n",
       "         [[2.8358e-01, 4.5051e-01],\n",
       "          [3.8968e-01, 1.6449e-01]],\n",
       "\n",
       "         [[3.2136e-01, 3.5772e-03],\n",
       "          [2.4442e-01, 1.9247e-03]]]])"
      ]
     },
     "execution_count": 13,
     "metadata": {},
     "output_type": "execute_result"
    }
   ],
   "source": [
    "a = torch.rand(3,2)\n",
    "a = a.view(1,3,1,2)\n",
    "\n",
    "query_real = torch.rand(2,3,2,2)\n",
    "\n",
    "a*query_real"
   ]
  },
  {
   "cell_type": "code",
   "execution_count": 13,
   "metadata": {},
   "outputs": [],
   "source": [
    "import torch\n",
    "\n",
    "a = torch.tensor([445])\n",
    "a = a.unsqueeze(0)"
   ]
  },
  {
   "cell_type": "code",
   "execution_count": 15,
   "metadata": {},
   "outputs": [
    {
     "data": {
      "text/plain": [
       "2"
      ]
     },
     "execution_count": 15,
     "metadata": {},
     "output_type": "execute_result"
    }
   ],
   "source": [
    "len(a.shape)"
   ]
  },
  {
   "cell_type": "code",
   "execution_count": null,
   "metadata": {},
   "outputs": [],
   "source": []
  }
 ],
 "metadata": {
  "kernelspec": {
   "display_name": "llama_hw",
   "language": "python",
   "name": "python3"
  },
  "language_info": {
   "codemirror_mode": {
    "name": "ipython",
    "version": 3
   },
   "file_extension": ".py",
   "mimetype": "text/x-python",
   "name": "python",
   "nbconvert_exporter": "python",
   "pygments_lexer": "ipython3",
   "version": "3.11.11"
  }
 },
 "nbformat": 4,
 "nbformat_minor": 2
}
